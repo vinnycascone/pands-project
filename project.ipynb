{
 "cells": [
  {
   "cell_type": "markdown",
   "metadata": {},
   "source": [
    "## Description of the project"
   ]
  },
  {
   "cell_type": "markdown",
   "metadata": {},
   "source": [
    "### Download of the dataset\n",
    "\n",
    "I have downloaded the Iris dataset from the UCI Machine Learning Repository using Python's requests module. By doing so this code snippet has downloaded the Iris dataset from the provided URL and saved it as a CSV file named iris.csv in my current directory.\n",
    "\n",
    "After downloading the dataset, I have added it to my Git repository using Git commands by adding, committing and pushing it."
   ]
  },
  {
   "cell_type": "markdown",
   "metadata": {},
   "source": [
    "### Output of the summary statistics of each variable\n",
    "\n",
    "The code that i have created has done so:\n",
    "\n",
    " - Loaded the Iris dataset into a pandas DataFrame (iris_df).\n",
    " - Calculated the summary statistics (mean, median, standard deviation, min, max, etc.) for each variable using the describe() function.\n",
    " - Converted the summary statistics DataFrame to a string using to_string().\n",
    " - Specified the file path for the output text file (output_file_path).\n",
    " - Wrote the summary statistics string to the output text file.\n",
    " - Printed a message indicating the location of the saved file.\n",
    " \n",
    "After running this code, I got a text file named summary_stats.txt containing the summary statistics of each variable from the Iris dataset.\n",
    "\n",
    "*references:\n",
    "- Pandas: to give structure to the data and use the data frame to manipulate the tabular data\n",
    "- Pandas DataFrame describe() method:to generate descriptive statistics of the data, includingcount, mean, standard deviation, minimum, maximum, and quartiles."
   ]
  },
  {
   "cell_type": "markdown",
   "metadata": {},
   "source": [
    "### Saved a histogram of each variable to png files\n",
    "\n",
    "In this piece of code I have loaded the dataset into a DataFrame called 'iris_df'.\n",
    "Then I have looped each column for which i have created a new figure using plt.figure() and plotted the historgram of the columns valuse using plt.hist() specifying the number of bins, color, and edge color.\n",
    "I have set a title, x-axis label, y-axis label and grid lines for the plot.\n",
    "I have saved the plot as a PNG file using plt.savefig(), where the file name is based on the column name and closed the current figure using plt.close() to release memory.\n",
    "After running this code, I have PNG files containing histograms for each variable (sepal_length_histogram.png, sepal_width_histogram.png, petal_length_histogram.png, and petal_width_histogram.png).\n",
    "\n",
    "** references:\n",
    "\n",
    "for this piece of code i have looked into matplotlib official documentation for the information about how to create various types of plots\n",
    "https://matplotlib.org/stable/contents.html\n"
   ]
  },
  {
   "cell_type": "markdown",
   "metadata": {},
   "source": []
  }
 ],
 "metadata": {
  "language_info": {
   "name": "python"
  }
 },
 "nbformat": 4,
 "nbformat_minor": 2
}
